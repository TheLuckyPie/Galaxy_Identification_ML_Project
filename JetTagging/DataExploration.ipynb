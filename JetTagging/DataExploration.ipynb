{
 "cells": [
  {
   "cell_type": "markdown",
   "metadata": {},
   "source": [
    "# Jet tagging dataset"
   ]
  },
  {
   "cell_type": "code",
   "execution_count": 1,
   "metadata": {},
   "outputs": [],
   "source": [
    "import h5py\n",
    "import numpy as np\n",
    "import pandas as pd"
   ]
  },
  {
   "cell_type": "code",
   "execution_count": 2,
   "metadata": {},
   "outputs": [],
   "source": [
    "%matplotlib inline\n",
    "import matplotlib.pyplot as plt\n",
    "import matplotlib"
   ]
  },
  {
   "cell_type": "markdown",
   "metadata": {},
   "source": [
    "Find the files and let's look at one of them"
   ]
  },
  {
   "cell_type": "code",
   "execution_count": 3,
   "metadata": {},
   "outputs": [
    {
     "name": "stdout",
     "output_type": "stream",
     "text": [
      "DataExploration.ipynb  qcd_img.h5    top_img.h5    wz_img.h5\r\n",
      "Dataprep.ipynb\t       qcd_small.h5  top_small.h5  wz_small.h5\r\n",
      "qcd_const.h5\t       top_const.h5  wz_const.h5\r\n"
     ]
    }
   ],
   "source": [
    "!ls"
   ]
  },
  {
   "cell_type": "code",
   "execution_count": 4,
   "metadata": {},
   "outputs": [],
   "source": [
    "# filen='qcd'\n",
    "filen='top'\n",
    "# filen='wz'"
   ]
  },
  {
   "cell_type": "code",
   "execution_count": 5,
   "metadata": {},
   "outputs": [],
   "source": [
    "qcd_df = pd.read_hdf(f\"{filen}_small.h5\")"
   ]
  },
  {
   "cell_type": "markdown",
   "metadata": {},
   "source": [
    "The dataset has the four momentum of each jet and 7 useful variables to classify jets with, with definitions [here](https://arxiv.org/abs/1903.02942).\n",
    "\n",
    "* tau1, tau2, and tau3 are the \"probabilities\" of a jet to be an N decay process (ie q, W->qq, top->bqq) based on subjets.\n",
    "    * We often take ratios of these, e.g. tau32 is the ratio tau3/tau2\n",
    "* d12 and d23 are \"splitting scales\"\n",
    "* ECFX are \"energy correlation factors\""
   ]
  },
  {
   "cell_type": "code",
   "execution_count": 23,
   "metadata": {
    "scrolled": true
   },
   "outputs": [
    {
     "data": {
      "text/html": [
       "<div>\n",
       "<style scoped>\n",
       "    .dataframe tbody tr th:only-of-type {\n",
       "        vertical-align: middle;\n",
       "    }\n",
       "\n",
       "    .dataframe tbody tr th {\n",
       "        vertical-align: top;\n",
       "    }\n",
       "\n",
       "    .dataframe thead th {\n",
       "        text-align: right;\n",
       "    }\n",
       "</style>\n",
       "<table border=\"1\" class=\"dataframe\">\n",
       "  <thead>\n",
       "    <tr style=\"text-align: right;\">\n",
       "      <th></th>\n",
       "      <th>pt</th>\n",
       "      <th>eta</th>\n",
       "      <th>phi</th>\n",
       "      <th>mass</th>\n",
       "      <th>tau1</th>\n",
       "      <th>tau2</th>\n",
       "      <th>tau3</th>\n",
       "      <th>d12</th>\n",
       "      <th>d23</th>\n",
       "      <th>ECF2</th>\n",
       "      <th>ECF3</th>\n",
       "    </tr>\n",
       "  </thead>\n",
       "  <tbody>\n",
       "    <tr>\n",
       "      <th>0</th>\n",
       "      <td>573.512896</td>\n",
       "      <td>0.001286</td>\n",
       "      <td>-1.439587</td>\n",
       "      <td>169.559158</td>\n",
       "      <td>0.258243</td>\n",
       "      <td>0.087235</td>\n",
       "      <td>0.031253</td>\n",
       "      <td>145.331607</td>\n",
       "      <td>33.307623</td>\n",
       "      <td>0.150575</td>\n",
       "      <td>0.004606</td>\n",
       "    </tr>\n",
       "    <tr>\n",
       "      <th>1</th>\n",
       "      <td>453.906445</td>\n",
       "      <td>0.148402</td>\n",
       "      <td>-0.015148</td>\n",
       "      <td>145.272721</td>\n",
       "      <td>0.267623</td>\n",
       "      <td>0.102800</td>\n",
       "      <td>0.066175</td>\n",
       "      <td>129.132864</td>\n",
       "      <td>27.523841</td>\n",
       "      <td>0.171669</td>\n",
       "      <td>0.007646</td>\n",
       "    </tr>\n",
       "    <tr>\n",
       "      <th>2</th>\n",
       "      <td>478.369848</td>\n",
       "      <td>-0.952453</td>\n",
       "      <td>1.408995</td>\n",
       "      <td>119.665687</td>\n",
       "      <td>0.135924</td>\n",
       "      <td>0.085038</td>\n",
       "      <td>0.046444</td>\n",
       "      <td>43.297613</td>\n",
       "      <td>23.269530</td>\n",
       "      <td>0.101354</td>\n",
       "      <td>0.003606</td>\n",
       "    </tr>\n",
       "    <tr>\n",
       "      <th>3</th>\n",
       "      <td>478.048060</td>\n",
       "      <td>1.861573</td>\n",
       "      <td>1.775839</td>\n",
       "      <td>168.655579</td>\n",
       "      <td>0.281357</td>\n",
       "      <td>0.142024</td>\n",
       "      <td>0.059981</td>\n",
       "      <td>109.025442</td>\n",
       "      <td>42.558432</td>\n",
       "      <td>0.172889</td>\n",
       "      <td>0.008726</td>\n",
       "    </tr>\n",
       "    <tr>\n",
       "      <th>4</th>\n",
       "      <td>505.042383</td>\n",
       "      <td>0.352444</td>\n",
       "      <td>1.669010</td>\n",
       "      <td>174.539199</td>\n",
       "      <td>0.296595</td>\n",
       "      <td>0.157693</td>\n",
       "      <td>0.104523</td>\n",
       "      <td>148.969734</td>\n",
       "      <td>51.627565</td>\n",
       "      <td>0.199092</td>\n",
       "      <td>0.010626</td>\n",
       "    </tr>\n",
       "  </tbody>\n",
       "</table>\n",
       "</div>"
      ],
      "text/plain": [
       "           pt       eta       phi        mass      tau1      tau2      tau3  \\\n",
       "0  573.512896  0.001286 -1.439587  169.559158  0.258243  0.087235  0.031253   \n",
       "1  453.906445  0.148402 -0.015148  145.272721  0.267623  0.102800  0.066175   \n",
       "2  478.369848 -0.952453  1.408995  119.665687  0.135924  0.085038  0.046444   \n",
       "3  478.048060  1.861573  1.775839  168.655579  0.281357  0.142024  0.059981   \n",
       "4  505.042383  0.352444  1.669010  174.539199  0.296595  0.157693  0.104523   \n",
       "\n",
       "          d12        d23      ECF2      ECF3  \n",
       "0  145.331607  33.307623  0.150575  0.004606  \n",
       "1  129.132864  27.523841  0.171669  0.007646  \n",
       "2   43.297613  23.269530  0.101354  0.003606  \n",
       "3  109.025442  42.558432  0.172889  0.008726  \n",
       "4  148.969734  51.627565  0.199092  0.010626  "
      ]
     },
     "execution_count": 23,
     "metadata": {},
     "output_type": "execute_result"
    }
   ],
   "source": [
    "qcd_df.head()"
   ]
  },
  {
   "cell_type": "code",
   "execution_count": 24,
   "metadata": {},
   "outputs": [
    {
     "data": {
      "text/plain": [
       "Text(0.5, 0, '$\\\\tau_{32}$')"
      ]
     },
     "execution_count": 24,
     "metadata": {},
     "output_type": "execute_result"
    },
    {
     "data": {
      "image/png": "[encoded data removed]",
      "text/plain": [
       "<Figure size 1080x288 with 3 Axes>"
      ]
     },
     "metadata": {
      "needs_background": "light"
     },
     "output_type": "display_data"
    }
   ],
   "source": [
    "fig,axes = plt.subplots(1,3,figsize=(15,4))\n",
    "\n",
    "axes[0].hist(np.clip(qcd_df.mass,0,300),bins=np.arange(0,300,20))\n",
    "axes[0].set_xlabel(r'$M_J$ [GeV]')\n",
    "axes[1].hist(np.clip(qcd_df.pt,450,1000),bins=np.arange(450,1000,50))\n",
    "axes[1].set_xlabel(r'$p_T$ [GeV]')\n",
    "axes[2].hist(qcd_df.tau3/qcd_df.tau2,bins=20)\n",
    "axes[2].set_xlabel(r'$\\tau_{32}$')"
   ]
  },
  {
   "cell_type": "code",
   "execution_count": 8,
   "metadata": {},
   "outputs": [],
   "source": [
    "qcd_const = h5py.File(f\"{filen}_const.h5\")"
   ]
  },
  {
   "cell_type": "code",
   "execution_count": 9,
   "metadata": {
    "scrolled": false
   },
   "outputs": [
    {
     "data": {
      "text/plain": [
       "<KeysViewHDF5 ['constituents']>"
      ]
     },
     "execution_count": 9,
     "metadata": {},
     "output_type": "execute_result"
    }
   ],
   "source": [
    "qcd_const.keys()"
   ]
  },
  {
   "cell_type": "markdown",
   "metadata": {},
   "source": [
    "Constituents has the following shape: `(njet,nconst,4)`\n",
    "with the 20 most important constituents per jet taken.\n",
    "\n",
    "Each constituent has its four momentum in the form `(pT,eta,phi,m)`.\n",
    "\n",
    "You can get the energy per constituent as `E=pT*cosh(eta)` and can centre all constituents using the jet eta and phi from the dataframe loaded before."
   ]
  },
  {
   "cell_type": "code",
   "execution_count": 10,
   "metadata": {},
   "outputs": [],
   "source": [
    "qc = qcd_const['constituents'][:10000]"
   ]
  },
  {
   "cell_type": "code",
   "execution_count": 11,
   "metadata": {
    "scrolled": true
   },
   "outputs": [],
   "source": [
    "qc_deta = qcd_df.eta[:10000,np.newaxis] - qc[:,:,1]\n",
    "qc_dphi = qcd_df.phi[:10000,np.newaxis] - qc[:,:,2]"
   ]
  },
  {
   "cell_type": "markdown",
   "metadata": {},
   "source": [
    "Phi is bounded to be between -pi and pi, so make sure when you take differences in delta you re-bound it!"
   ]
  },
  {
   "cell_type": "code",
   "execution_count": 12,
   "metadata": {},
   "outputs": [
    {
     "data": {
      "text/plain": [
       "(-6.281009331048393, 6.277171248725887)"
      ]
     },
     "execution_count": 12,
     "metadata": {},
     "output_type": "execute_result"
    }
   ],
   "source": [
    "np.min(qc_dphi),np.max(qc_dphi)"
   ]
  },
  {
   "cell_type": "code",
   "execution_count": 13,
   "metadata": {},
   "outputs": [],
   "source": [
    "qc_dphi = np.where(qc_dphi < -np.pi,qc_dphi+2*np.pi,qc_dphi)\n",
    "qc_dphi = np.where(qc_dphi > +np.pi,qc_dphi-2*np.pi,qc_dphi)"
   ]
  },
  {
   "cell_type": "code",
   "execution_count": 14,
   "metadata": {},
   "outputs": [
    {
     "data": {
      "text/plain": [
       "(-2.854493781902538, 2.640294953530151)"
      ]
     },
     "execution_count": 14,
     "metadata": {},
     "output_type": "execute_result"
    }
   ],
   "source": [
    "np.min(qc_dphi),np.max(qc_dphi)"
   ]
  },
  {
   "cell_type": "code",
   "execution_count": 15,
   "metadata": {},
   "outputs": [],
   "source": [
    "qc_fracE = qc[:,:,0]*np.cosh(qc[:,:,1])/np.sum(qc[:,:,0]*np.cosh(qc[:,:,1]),axis=1)[::,np.newaxis]"
   ]
  },
  {
   "cell_type": "code",
   "execution_count": 16,
   "metadata": {},
   "outputs": [],
   "source": [
    "import matplotlib"
   ]
  },
  {
   "cell_type": "markdown",
   "metadata": {},
   "source": [
    "Let's look at the \"image\" form of one jet"
   ]
  },
  {
   "cell_type": "code",
   "execution_count": 22,
   "metadata": {
    "scrolled": true
   },
   "outputs": [
    {
     "data": {
      "text/plain": [
       "<matplotlib.colorbar.Colorbar at 0x2b7ac382c820>"
      ]
     },
     "execution_count": 22,
     "metadata": {},
     "output_type": "execute_result"
    },
    {
     "data": {
      "image/png": "[encoded data removed]",
      "text/plain": [
       "<Figure size 432x288 with 2 Axes>"
      ]
     },
     "metadata": {
      "needs_background": "light"
     },
     "output_type": "display_data"
    }
   ],
   "source": [
    "plt.hist2d(qc_deta[0].ravel(),qc_dphi[0].ravel(),weights=(qc_fracE[0].ravel()/len(qc_fracE[0])),bins=(np.arange(-0.975,0.975,0.1),np.arange(-0.975,0.975,0.1)),norm=matplotlib.colors.LogNorm())\n",
    "plt.colorbar()"
   ]
  },
  {
   "cell_type": "markdown",
   "metadata": {},
   "source": [
    "The \"image\" of the average jet"
   ]
  },
  {
   "cell_type": "code",
   "execution_count": 17,
   "metadata": {
    "scrolled": false
   },
   "outputs": [
    {
     "data": {
      "text/plain": [
       "<matplotlib.colorbar.Colorbar at 0x2b7ac37324c0>"
      ]
     },
     "execution_count": 17,
     "metadata": {},
     "output_type": "execute_result"
    },
    {
     "data": {
      "image/png": "[encoded data removed]",
      "text/plain": [
       "<Figure size 432x288 with 2 Axes>"
      ]
     },
     "metadata": {
      "needs_background": "light"
     },
     "output_type": "display_data"
    }
   ],
   "source": [
    "plt.hist2d(qc_deta.ravel(),qc_dphi.ravel(),weights=(qc_fracE.ravel()/len(qc_fracE)),bins=(np.arange(-0.975,0.975,0.05),np.arange(-0.975,0.975,0.05)),norm=matplotlib.colors.LogNorm())\n",
    "plt.colorbar()"
   ]
  },
  {
   "cell_type": "markdown",
   "metadata": {},
   "source": [
    "Use the substructure variables, the constituents, or even images to identify the origin of jets as either from top, W/Z or QCD."
   ]
  },
  {
   "cell_type": "code",
   "execution_count": null,
   "metadata": {},
   "outputs": [],
   "source": []
  }
 ],
 "metadata": {
  "kernelspec": {
   "display_name": "Python 3",
   "language": "python",
   "name": "python3"
  },
  "language_info": {
   "codemirror_mode": {
    "name": "ipython",
    "version": 3
   },
   "file_extension": ".py",
   "mimetype": "text/x-python",
   "name": "python",
   "nbconvert_exporter": "python",
   "pygments_lexer": "ipython3",
   "version": "3.8.10"
  }
 },
 "nbformat": 4,
 "nbformat_minor": 2
}
