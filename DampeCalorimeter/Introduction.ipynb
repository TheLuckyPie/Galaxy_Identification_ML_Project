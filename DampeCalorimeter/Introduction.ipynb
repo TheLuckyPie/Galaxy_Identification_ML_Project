{
 "cells": [
  {
   "cell_type": "markdown",
   "id": "broken-footwear",
   "metadata": {},
   "source": [
    "# Calorimeter regression task\n",
    "\n",
    "In this project you will be looking at image like data from particle hits in a calorimeter. The goal of the project is to predict the location of the particle in the sky, using the data recorded by the calorimeter.\n",
    "\n",
    "\n",
    "\n",
    "## The training data\n",
    "Here you get calorimeter images, as well as some additional information about the calorimeter.\n",
    "The calorimeter data has the total energy of the corresponding image in the first column, and the calorimeter energy of the maximum bar.\n",
    "\n",
    "## The target data\n",
    "The target here is a vector of length four, where the first two columns are the x and y positions of the first layer, and the second two columns are the x and y positions of the second layer. To simplify the task, you can try predicting each layer individually, before attempting both layers together."
   ]
  },
  {
   "cell_type": "code",
   "execution_count": 1,
   "id": "unknown-president",
   "metadata": {},
   "outputs": [],
   "source": [
    "from utils import get_input_data\n",
    "calorimeter_images, calorimeter_data, data_target = get_input_data()"
   ]
  },
  {
   "cell_type": "code",
   "execution_count": null,
   "id": "running-tennessee",
   "metadata": {},
   "outputs": [],
   "source": []
  }
 ],
 "metadata": {
  "kernelspec": {
   "display_name": "Python 3",
   "language": "python",
   "name": "python3"
  },
  "language_info": {
   "codemirror_mode": {
    "name": "ipython",
    "version": 3
   },
   "file_extension": ".py",
   "mimetype": "text/x-python",
   "name": "python",
   "nbconvert_exporter": "python",
   "pygments_lexer": "ipython3",
   "version": "3.9.6"
  }
 },
 "nbformat": 4,
 "nbformat_minor": 5
}
